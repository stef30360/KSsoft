{
 "cells": [
  {
   "cell_type": "markdown",
   "metadata": {},
   "source": [
    "### Modification du vecteur HP\n",
    "----------------------------------\n",
    "\n",
    "\n",
    "## Objectif: Faire une graphique interactif sur le profil de puissance en Heure pleine et en heure creuse\n",
    "\n",
    "* modifier le vecteur HP avec les nouvelles valeurs, la somme des HP doit rester constante.\n",
    "* faire l'interface face graphique\n",
    "\n",
    "![title](img.png)\n"
   ]
  },
  {
   "cell_type": "code",
   "execution_count": 1,
   "metadata": {},
   "outputs": [
    {
     "name": "stderr",
     "output_type": "stream",
     "text": [
      "/Users/srmac/Dropbox/Kepler/KeplerSoft/KS_pv.py:35: ParserWarning: Falling back to the 'python' engine because the 'c' engine does not support skipfooter; you can avoid this warning by specifying engine='python'.\n",
      "  ,skiprows=10,skipfooter=11).drop(['G_i','As','int.'],axis=1)\n",
      "/Users/srmac/Dropbox/Kepler/KeplerSoft/KS_consoPlus.py:183: SettingWithCopyWarning: \n",
      "A value is trying to be set on a copy of a slice from a DataFrame\n",
      "\n",
      "See the caveats in the documentation: http://pandas.pydata.org/pandas-docs/stable/indexing.html#indexing-view-versus-copy\n",
      "  df.Début[i]=d\n",
      "/Users/srmac/Dropbox/Kepler/KeplerSoft/KS_consoPlus.py:188: SettingWithCopyWarning: \n",
      "A value is trying to be set on a copy of a slice from a DataFrame\n",
      "\n",
      "See the caveats in the documentation: http://pandas.pydata.org/pandas-docs/stable/indexing.html#indexing-view-versus-copy\n",
      "  df.Fin[i]=f\n",
      "/Users/srmac/Dropbox/Kepler/KeplerSoft/KS_consoPlus.py:189: SettingWithCopyWarning: \n",
      "A value is trying to be set on a copy of a slice from a DataFrame\n",
      "\n",
      "See the caveats in the documentation: http://pandas.pydata.org/pandas-docs/stable/indexing.html#indexing-view-versus-copy\n",
      "  df.Nbr_jours[i]=nb_jours(d,f)\n",
      "/Users/srmac/Dropbox/Kepler/KeplerSoft/KS_consoPlus.py:190: SettingWithCopyWarning: \n",
      "A value is trying to be set on a copy of a slice from a DataFrame\n",
      "\n",
      "See the caveats in the documentation: http://pandas.pydata.org/pandas-docs/stable/indexing.html#indexing-view-versus-copy\n",
      "  df.Nbr_jours_ouvrés[i]=nb_jours(d,f)-nb_week(d,f)\n",
      "/Users/srmac/Dropbox/Kepler/KeplerSoft/KS_consoPlus.py:191: SettingWithCopyWarning: \n",
      "A value is trying to be set on a copy of a slice from a DataFrame\n",
      "\n",
      "See the caveats in the documentation: http://pandas.pydata.org/pandas-docs/stable/indexing.html#indexing-view-versus-copy\n",
      "  df.Nbr_sam[i]=nb_samedi(d,f)\n",
      "/Users/srmac/Dropbox/Kepler/KeplerSoft/KS_consoPlus.py:192: SettingWithCopyWarning: \n",
      "A value is trying to be set on a copy of a slice from a DataFrame\n",
      "\n",
      "See the caveats in the documentation: http://pandas.pydata.org/pandas-docs/stable/indexing.html#indexing-view-versus-copy\n",
      "  df.Nbr_dim[i]=nb_dimanche(d,f)\n",
      "/Users/srmac/Dropbox/Kepler/KeplerSoft/KS_consoPlus.py:193: SettingWithCopyWarning: \n",
      "A value is trying to be set on a copy of a slice from a DataFrame\n",
      "\n",
      "See the caveats in the documentation: http://pandas.pydata.org/pandas-docs/stable/indexing.html#indexing-view-versus-copy\n",
      "  df.Nbr_jours_chomés[i]=nb_week(d,f)\n",
      "/Users/srmac/Dropbox/Kepler/KeplerSoft/KS_consoPlus.py:200: SettingWithCopyWarning: \n",
      "A value is trying to be set on a copy of a slice from a DataFrame\n",
      "\n",
      "See the caveats in the documentation: http://pandas.pydata.org/pandas-docs/stable/indexing.html#indexing-view-versus-copy\n",
      "  df.hch[i]=8*df.Nbr_jours_ouvrés[i]+24*df.Nbr_jours_chomés[i]\n",
      "/Users/srmac/Dropbox/Kepler/KeplerSoft/KS_consoPlus.py:201: SettingWithCopyWarning: \n",
      "A value is trying to be set on a copy of a slice from a DataFrame\n",
      "\n",
      "See the caveats in the documentation: http://pandas.pydata.org/pandas-docs/stable/indexing.html#indexing-view-versus-copy\n",
      "  df.hph[i]=16*df.Nbr_jours_ouvrés[i]\n",
      "/Users/srmac/Dropbox/Kepler/KeplerSoft/KS_consoPlus.py:202: SettingWithCopyWarning: \n",
      "A value is trying to be set on a copy of a slice from a DataFrame\n",
      "\n",
      "See the caveats in the documentation: http://pandas.pydata.org/pandas-docs/stable/indexing.html#indexing-view-versus-copy\n",
      "  df.hcb[i]=0\n",
      "/Users/srmac/Dropbox/Kepler/KeplerSoft/KS_consoPlus.py:203: SettingWithCopyWarning: \n",
      "A value is trying to be set on a copy of a slice from a DataFrame\n",
      "\n",
      "See the caveats in the documentation: http://pandas.pydata.org/pandas-docs/stable/indexing.html#indexing-view-versus-copy\n",
      "  df.hpb[i]=0\n",
      "/Users/srmac/Dropbox/Kepler/KeplerSoft/KS_consoPlus.py:231: SettingWithCopyWarning: \n",
      "A value is trying to be set on a copy of a slice from a DataFrame\n",
      "\n",
      "See the caveats in the documentation: http://pandas.pydata.org/pandas-docs/stable/indexing.html#indexing-view-versus-copy\n",
      "  df.Pui_HC[i]=(df.EHCH[i]+df.EHCB[i])/(df.hch[i]+df.hcb[i])\n",
      "/Users/srmac/Dropbox/Kepler/KeplerSoft/KS_consoPlus.py:232: SettingWithCopyWarning: \n",
      "A value is trying to be set on a copy of a slice from a DataFrame\n",
      "\n",
      "See the caveats in the documentation: http://pandas.pydata.org/pandas-docs/stable/indexing.html#indexing-view-versus-copy\n",
      "  df.Pui_HP[i]=((df.EHPH[i]+df.EHPB[i])-(df.Pui_HC[i]*df.Nbr_jours_chomés[i]*16))/(df.Nbr_jours_ouvrés[i]*16)\n",
      "/Users/srmac/Dropbox/Kepler/KeplerSoft/KS_consoPlus.py:212: SettingWithCopyWarning: \n",
      "A value is trying to be set on a copy of a slice from a DataFrame\n",
      "\n",
      "See the caveats in the documentation: http://pandas.pydata.org/pandas-docs/stable/indexing.html#indexing-view-versus-copy\n",
      "  df.hch[i]=8*Nbr_jours_ouvrés_avant31 + 24*Nbr_jours_chomés_avant31\n",
      "/Users/srmac/Dropbox/Kepler/KeplerSoft/KS_consoPlus.py:213: SettingWithCopyWarning: \n",
      "A value is trying to be set on a copy of a slice from a DataFrame\n",
      "\n",
      "See the caveats in the documentation: http://pandas.pydata.org/pandas-docs/stable/indexing.html#indexing-view-versus-copy\n",
      "  df.hph[i]=16*Nbr_jours_ouvrés_avant31\n",
      "/Users/srmac/Dropbox/Kepler/KeplerSoft/KS_consoPlus.py:215: SettingWithCopyWarning: \n",
      "A value is trying to be set on a copy of a slice from a DataFrame\n",
      "\n",
      "See the caveats in the documentation: http://pandas.pydata.org/pandas-docs/stable/indexing.html#indexing-view-versus-copy\n",
      "  df.hcb[i]=8*Nbr_jours_ouvrés_post31 + 24*Nbr_jours_chomés_post31\n",
      "/Users/srmac/Dropbox/Kepler/KeplerSoft/KS_consoPlus.py:216: SettingWithCopyWarning: \n",
      "A value is trying to be set on a copy of a slice from a DataFrame\n",
      "\n",
      "See the caveats in the documentation: http://pandas.pydata.org/pandas-docs/stable/indexing.html#indexing-view-versus-copy\n",
      "  df.hpb[i]=16*Nbr_jours_ouvrés_post31\n",
      "/Users/srmac/Dropbox/Kepler/KeplerSoft/KS_consoPlus.py:195: SettingWithCopyWarning: \n",
      "A value is trying to be set on a copy of a slice from a DataFrame\n",
      "\n",
      "See the caveats in the documentation: http://pandas.pydata.org/pandas-docs/stable/indexing.html#indexing-view-versus-copy\n",
      "  df.hcb[i]=8*df.Nbr_jours_ouvrés[i]+24*df.Nbr_jours_chomés[i]\n",
      "/Users/srmac/Dropbox/Kepler/KeplerSoft/KS_consoPlus.py:196: SettingWithCopyWarning: \n",
      "A value is trying to be set on a copy of a slice from a DataFrame\n",
      "\n",
      "See the caveats in the documentation: http://pandas.pydata.org/pandas-docs/stable/indexing.html#indexing-view-versus-copy\n",
      "  df.hpb[i]=16*df.Nbr_jours_ouvrés[i]\n",
      "/Users/srmac/Dropbox/Kepler/KeplerSoft/KS_consoPlus.py:197: SettingWithCopyWarning: \n",
      "A value is trying to be set on a copy of a slice from a DataFrame\n",
      "\n",
      "See the caveats in the documentation: http://pandas.pydata.org/pandas-docs/stable/indexing.html#indexing-view-versus-copy\n",
      "  df.hch[i]=0\n",
      "/Users/srmac/Dropbox/Kepler/KeplerSoft/KS_consoPlus.py:198: SettingWithCopyWarning: \n",
      "A value is trying to be set on a copy of a slice from a DataFrame\n",
      "\n",
      "See the caveats in the documentation: http://pandas.pydata.org/pandas-docs/stable/indexing.html#indexing-view-versus-copy\n",
      "  df.hph[i]=0\n",
      "/Users/srmac/Dropbox/Kepler/KeplerSoft/KS_consoPlus.py:225: SettingWithCopyWarning: \n",
      "A value is trying to be set on a copy of a slice from a DataFrame\n",
      "\n",
      "See the caveats in the documentation: http://pandas.pydata.org/pandas-docs/stable/indexing.html#indexing-view-versus-copy\n",
      "  df.hch[i]=8*Nbr_jours_ouvrés_avant31 + 24*Nbr_jours_chomés_avant31\n",
      "/Users/srmac/Dropbox/Kepler/KeplerSoft/KS_consoPlus.py:226: SettingWithCopyWarning: \n",
      "A value is trying to be set on a copy of a slice from a DataFrame\n",
      "\n",
      "See the caveats in the documentation: http://pandas.pydata.org/pandas-docs/stable/indexing.html#indexing-view-versus-copy\n",
      "  df.hph[i]=16*Nbr_jours_ouvrés_avant31\n",
      "/Users/srmac/Dropbox/Kepler/KeplerSoft/KS_consoPlus.py:228: SettingWithCopyWarning: \n",
      "A value is trying to be set on a copy of a slice from a DataFrame\n",
      "\n",
      "See the caveats in the documentation: http://pandas.pydata.org/pandas-docs/stable/indexing.html#indexing-view-versus-copy\n",
      "  df.hcb[i]=8*Nbr_jours_ouvrés_post31 + 24*Nbr_jours_chomés_post31\n",
      "/Users/srmac/Dropbox/Kepler/KeplerSoft/KS_consoPlus.py:229: SettingWithCopyWarning: \n",
      "A value is trying to be set on a copy of a slice from a DataFrame\n",
      "\n",
      "See the caveats in the documentation: http://pandas.pydata.org/pandas-docs/stable/indexing.html#indexing-view-versus-copy\n",
      "  df.hpb[i]=16*Nbr_jours_ouvrés_post31\n"
     ]
    }
   ],
   "source": [
    "%run  /Users/srmac/Dropbox/Kepler/KeplerSoft/KS_consoPlus.py\n"
   ]
  },
  {
   "cell_type": "code",
   "execution_count": 2,
   "metadata": {},
   "outputs": [
    {
     "data": {
      "text/plain": [
       "P1     55.8846\n",
       "P2     64.2191\n",
       "P3       63.37\n",
       "P4     49.3697\n",
       "P5     39.9494\n",
       "P6     16.5572\n",
       "P7     23.6023\n",
       "P8     12.6065\n",
       "P9     29.3508\n",
       "P10     55.354\n",
       "P11    48.2545\n",
       "P12    76.5537\n",
       "Name: Pui_HP, dtype: object"
      ]
     },
     "execution_count": 2,
     "metadata": {},
     "output_type": "execute_result"
    }
   ],
   "source": [
    "df.Pui_HP\n"
   ]
  },
  {
   "cell_type": "code",
   "execution_count": 3,
   "metadata": {},
   "outputs": [
    {
     "data": {
      "text/plain": [
       "55.884634387351774"
      ]
     },
     "execution_count": 3,
     "metadata": {},
     "output_type": "execute_result"
    }
   ],
   "source": [
    "df.Pui_HP['P1']\n"
   ]
  },
  {
   "cell_type": "code",
   "execution_count": 4,
   "metadata": {},
   "outputs": [
    {
     "data": {
      "text/plain": [
       "65.884634387351781"
      ]
     },
     "execution_count": 4,
     "metadata": {},
     "output_type": "execute_result"
    }
   ],
   "source": [
    "df.Pui_HP['P1']+10"
   ]
  },
  {
   "cell_type": "code",
   "execution_count": 5,
   "metadata": {},
   "outputs": [
    {
     "data": {
      "text/plain": [
       "2017-11-21 07:00:00    76.553693\n",
       "2017-11-21 08:00:00    76.553693\n",
       "2017-11-21 09:00:00    76.553693\n",
       "2017-11-21 10:00:00    76.553693\n",
       "2017-11-21 11:00:00    76.553693\n",
       "2017-11-21 12:00:00    76.553693\n",
       "2017-11-21 13:00:00    76.553693\n",
       "2017-11-21 14:00:00    76.553693\n",
       "2017-11-21 15:00:00    76.553693\n",
       "2017-11-21 16:00:00    76.553693\n",
       "2017-11-21 17:00:00    76.553693\n",
       "2017-11-21 18:00:00    76.553693\n",
       "2017-11-21 19:00:00    76.553693\n",
       "2017-11-21 20:00:00    76.553693\n",
       "2017-11-21 21:00:00    76.553693\n",
       "2017-11-21 22:00:00    76.553693\n",
       "2017-11-22 07:00:00    76.553693\n",
       "2017-11-22 08:00:00    76.553693\n",
       "2017-11-22 09:00:00    76.553693\n",
       "2017-11-22 10:00:00    76.553693\n",
       "2017-11-22 11:00:00    76.553693\n",
       "2017-11-22 12:00:00    76.553693\n",
       "2017-11-22 13:00:00    76.553693\n",
       "2017-11-22 14:00:00    76.553693\n",
       "2017-11-22 15:00:00    76.553693\n",
       "2017-11-22 16:00:00    76.553693\n",
       "2017-11-22 17:00:00    76.553693\n",
       "2017-11-22 18:00:00    76.553693\n",
       "2017-11-22 19:00:00    76.553693\n",
       "2017-11-22 20:00:00    76.553693\n",
       "                         ...    \n",
       "2017-12-15 09:00:00    76.553693\n",
       "2017-12-15 10:00:00    76.553693\n",
       "2017-12-15 11:00:00    76.553693\n",
       "2017-12-15 12:00:00    76.553693\n",
       "2017-12-15 13:00:00    76.553693\n",
       "2017-12-15 14:00:00    76.553693\n",
       "2017-12-15 15:00:00    76.553693\n",
       "2017-12-15 16:00:00    76.553693\n",
       "2017-12-15 17:00:00    76.553693\n",
       "2017-12-15 18:00:00    76.553693\n",
       "2017-12-15 19:00:00    76.553693\n",
       "2017-12-15 20:00:00    76.553693\n",
       "2017-12-15 21:00:00    76.553693\n",
       "2017-12-15 22:00:00    76.553693\n",
       "2017-12-18 07:00:00    76.553693\n",
       "2017-12-18 08:00:00    76.553693\n",
       "2017-12-18 09:00:00    76.553693\n",
       "2017-12-18 10:00:00    76.553693\n",
       "2017-12-18 11:00:00    76.553693\n",
       "2017-12-18 12:00:00    76.553693\n",
       "2017-12-18 13:00:00    76.553693\n",
       "2017-12-18 14:00:00    76.553693\n",
       "2017-12-18 15:00:00    76.553693\n",
       "2017-12-18 16:00:00    76.553693\n",
       "2017-12-18 17:00:00    76.553693\n",
       "2017-12-18 18:00:00    76.553693\n",
       "2017-12-18 19:00:00    76.553693\n",
       "2017-12-18 20:00:00    76.553693\n",
       "2017-12-18 21:00:00    76.553693\n",
       "2017-12-18 22:00:00    76.553693\n",
       "Name: Pui_Conso, Length: 320, dtype: float64"
      ]
     },
     "execution_count": 5,
     "metadata": {},
     "output_type": "execute_result"
    }
   ],
   "source": [
    "dfPxHP['Pui_Conso']\n"
   ]
  },
  {
   "cell_type": "code",
   "execution_count": 8,
   "metadata": {},
   "outputs": [
    {
     "data": {
      "text/plain": [
       "Int64Index([ 7,  8,  9, 10, 11, 12, 13, 14, 15, 16,\n",
       "            ...\n",
       "            13, 14, 15, 16, 17, 18, 19, 20, 21, 22],\n",
       "           dtype='int64', length=320)"
      ]
     },
     "execution_count": 8,
     "metadata": {},
     "output_type": "execute_result"
    }
   ],
   "source": [
    "dfPxHP.index.hour"
   ]
  }
 ],
 "metadata": {
  "kernelspec": {
   "display_name": "Python 3",
   "language": "python",
   "name": "python3"
  },
  "language_info": {
   "codemirror_mode": {
    "name": "ipython",
    "version": 3
   },
   "file_extension": ".py",
   "mimetype": "text/x-python",
   "name": "python",
   "nbconvert_exporter": "python",
   "pygments_lexer": "ipython3",
   "version": "3.6.3"
  }
 },
 "nbformat": 4,
 "nbformat_minor": 2
}
