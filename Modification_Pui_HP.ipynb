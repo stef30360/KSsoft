{
 "cells": [
  {
   "cell_type": "markdown",
   "metadata": {},
   "source": [
    "### Modification du vecteur HP\n",
    "----------------------------------\n",
    "\n",
    "\n",
    "## Objectif: Faire une graphique interactif sur le profil de puissance en Heure pleine et en heure creuse\n",
    "\n",
    "* modifier le vecteur HP avec les nouvelles valeurs, la somme des HP doit rester constante.\n",
    "* faire l'interface face graphique\n",
    "\n",
    "![title](img.png)\n"
   ]
  },
  {
   "cell_type": "code",
   "execution_count": 223,
   "metadata": {},
   "outputs": [
    {
     "name": "stderr",
     "output_type": "stream",
     "text": [
      "/Users/srmac/Dropbox/Kepler/KeplerSoft/KS_consoPlus.py:183: SettingWithCopyWarning: \n",
      "A value is trying to be set on a copy of a slice from a DataFrame\n",
      "\n",
      "See the caveats in the documentation: http://pandas.pydata.org/pandas-docs/stable/indexing.html#indexing-view-versus-copy\n",
      "  df.Début[i]=d\n",
      "/Users/srmac/Dropbox/Kepler/KeplerSoft/KS_consoPlus.py:188: SettingWithCopyWarning: \n",
      "A value is trying to be set on a copy of a slice from a DataFrame\n",
      "\n",
      "See the caveats in the documentation: http://pandas.pydata.org/pandas-docs/stable/indexing.html#indexing-view-versus-copy\n",
      "  df.Fin[i]=f\n",
      "/Users/srmac/Dropbox/Kepler/KeplerSoft/KS_consoPlus.py:189: SettingWithCopyWarning: \n",
      "A value is trying to be set on a copy of a slice from a DataFrame\n",
      "\n",
      "See the caveats in the documentation: http://pandas.pydata.org/pandas-docs/stable/indexing.html#indexing-view-versus-copy\n",
      "  df.Nbr_jours[i]=nb_jours(d,f)\n",
      "/Users/srmac/Dropbox/Kepler/KeplerSoft/KS_consoPlus.py:190: SettingWithCopyWarning: \n",
      "A value is trying to be set on a copy of a slice from a DataFrame\n",
      "\n",
      "See the caveats in the documentation: http://pandas.pydata.org/pandas-docs/stable/indexing.html#indexing-view-versus-copy\n",
      "  df.Nbr_jours_ouvrés[i]=nb_jours(d,f)-nb_week(d,f)\n",
      "/Users/srmac/Dropbox/Kepler/KeplerSoft/KS_consoPlus.py:191: SettingWithCopyWarning: \n",
      "A value is trying to be set on a copy of a slice from a DataFrame\n",
      "\n",
      "See the caveats in the documentation: http://pandas.pydata.org/pandas-docs/stable/indexing.html#indexing-view-versus-copy\n",
      "  df.Nbr_sam[i]=nb_samedi(d,f)\n",
      "/Users/srmac/Dropbox/Kepler/KeplerSoft/KS_consoPlus.py:192: SettingWithCopyWarning: \n",
      "A value is trying to be set on a copy of a slice from a DataFrame\n",
      "\n",
      "See the caveats in the documentation: http://pandas.pydata.org/pandas-docs/stable/indexing.html#indexing-view-versus-copy\n",
      "  df.Nbr_dim[i]=nb_dimanche(d,f)\n",
      "/Users/srmac/Dropbox/Kepler/KeplerSoft/KS_consoPlus.py:193: SettingWithCopyWarning: \n",
      "A value is trying to be set on a copy of a slice from a DataFrame\n",
      "\n",
      "See the caveats in the documentation: http://pandas.pydata.org/pandas-docs/stable/indexing.html#indexing-view-versus-copy\n",
      "  df.Nbr_jours_chomés[i]=nb_week(d,f)\n",
      "/Users/srmac/Dropbox/Kepler/KeplerSoft/KS_consoPlus.py:200: SettingWithCopyWarning: \n",
      "A value is trying to be set on a copy of a slice from a DataFrame\n",
      "\n",
      "See the caveats in the documentation: http://pandas.pydata.org/pandas-docs/stable/indexing.html#indexing-view-versus-copy\n",
      "  df.hch[i]=8*df.Nbr_jours_ouvrés[i]+24*df.Nbr_jours_chomés[i]\n",
      "/Users/srmac/Dropbox/Kepler/KeplerSoft/KS_consoPlus.py:201: SettingWithCopyWarning: \n",
      "A value is trying to be set on a copy of a slice from a DataFrame\n",
      "\n",
      "See the caveats in the documentation: http://pandas.pydata.org/pandas-docs/stable/indexing.html#indexing-view-versus-copy\n",
      "  df.hph[i]=16*df.Nbr_jours_ouvrés[i]\n",
      "/Users/srmac/Dropbox/Kepler/KeplerSoft/KS_consoPlus.py:202: SettingWithCopyWarning: \n",
      "A value is trying to be set on a copy of a slice from a DataFrame\n",
      "\n",
      "See the caveats in the documentation: http://pandas.pydata.org/pandas-docs/stable/indexing.html#indexing-view-versus-copy\n",
      "  df.hcb[i]=0\n",
      "/Users/srmac/Dropbox/Kepler/KeplerSoft/KS_consoPlus.py:203: SettingWithCopyWarning: \n",
      "A value is trying to be set on a copy of a slice from a DataFrame\n",
      "\n",
      "See the caveats in the documentation: http://pandas.pydata.org/pandas-docs/stable/indexing.html#indexing-view-versus-copy\n",
      "  df.hpb[i]=0\n",
      "/Users/srmac/Dropbox/Kepler/KeplerSoft/KS_consoPlus.py:231: SettingWithCopyWarning: \n",
      "A value is trying to be set on a copy of a slice from a DataFrame\n",
      "\n",
      "See the caveats in the documentation: http://pandas.pydata.org/pandas-docs/stable/indexing.html#indexing-view-versus-copy\n",
      "  df.Pui_HC[i]=(df.EHCH[i]+df.EHCB[i])/(df.hch[i]+df.hcb[i])\n",
      "/Users/srmac/Dropbox/Kepler/KeplerSoft/KS_consoPlus.py:232: SettingWithCopyWarning: \n",
      "A value is trying to be set on a copy of a slice from a DataFrame\n",
      "\n",
      "See the caveats in the documentation: http://pandas.pydata.org/pandas-docs/stable/indexing.html#indexing-view-versus-copy\n",
      "  df.Pui_HP[i]=((df.EHPH[i]+df.EHPB[i])-(df.Pui_HC[i]*df.Nbr_jours_chomés[i]*16))/(df.Nbr_jours_ouvrés[i]*16)\n",
      "/Users/srmac/Dropbox/Kepler/KeplerSoft/KS_consoPlus.py:212: SettingWithCopyWarning: \n",
      "A value is trying to be set on a copy of a slice from a DataFrame\n",
      "\n",
      "See the caveats in the documentation: http://pandas.pydata.org/pandas-docs/stable/indexing.html#indexing-view-versus-copy\n",
      "  df.hch[i]=8*Nbr_jours_ouvrés_avant31 + 24*Nbr_jours_chomés_avant31\n",
      "/Users/srmac/Dropbox/Kepler/KeplerSoft/KS_consoPlus.py:213: SettingWithCopyWarning: \n",
      "A value is trying to be set on a copy of a slice from a DataFrame\n",
      "\n",
      "See the caveats in the documentation: http://pandas.pydata.org/pandas-docs/stable/indexing.html#indexing-view-versus-copy\n",
      "  df.hph[i]=16*Nbr_jours_ouvrés_avant31\n",
      "/Users/srmac/Dropbox/Kepler/KeplerSoft/KS_consoPlus.py:215: SettingWithCopyWarning: \n",
      "A value is trying to be set on a copy of a slice from a DataFrame\n",
      "\n",
      "See the caveats in the documentation: http://pandas.pydata.org/pandas-docs/stable/indexing.html#indexing-view-versus-copy\n",
      "  df.hcb[i]=8*Nbr_jours_ouvrés_post31 + 24*Nbr_jours_chomés_post31\n",
      "/Users/srmac/Dropbox/Kepler/KeplerSoft/KS_consoPlus.py:216: SettingWithCopyWarning: \n",
      "A value is trying to be set on a copy of a slice from a DataFrame\n",
      "\n",
      "See the caveats in the documentation: http://pandas.pydata.org/pandas-docs/stable/indexing.html#indexing-view-versus-copy\n",
      "  df.hpb[i]=16*Nbr_jours_ouvrés_post31\n",
      "/Users/srmac/Dropbox/Kepler/KeplerSoft/KS_consoPlus.py:195: SettingWithCopyWarning: \n",
      "A value is trying to be set on a copy of a slice from a DataFrame\n",
      "\n",
      "See the caveats in the documentation: http://pandas.pydata.org/pandas-docs/stable/indexing.html#indexing-view-versus-copy\n",
      "  df.hcb[i]=8*df.Nbr_jours_ouvrés[i]+24*df.Nbr_jours_chomés[i]\n",
      "/Users/srmac/Dropbox/Kepler/KeplerSoft/KS_consoPlus.py:196: SettingWithCopyWarning: \n",
      "A value is trying to be set on a copy of a slice from a DataFrame\n",
      "\n",
      "See the caveats in the documentation: http://pandas.pydata.org/pandas-docs/stable/indexing.html#indexing-view-versus-copy\n",
      "  df.hpb[i]=16*df.Nbr_jours_ouvrés[i]\n",
      "/Users/srmac/Dropbox/Kepler/KeplerSoft/KS_consoPlus.py:197: SettingWithCopyWarning: \n",
      "A value is trying to be set on a copy of a slice from a DataFrame\n",
      "\n",
      "See the caveats in the documentation: http://pandas.pydata.org/pandas-docs/stable/indexing.html#indexing-view-versus-copy\n",
      "  df.hch[i]=0\n",
      "/Users/srmac/Dropbox/Kepler/KeplerSoft/KS_consoPlus.py:198: SettingWithCopyWarning: \n",
      "A value is trying to be set on a copy of a slice from a DataFrame\n",
      "\n",
      "See the caveats in the documentation: http://pandas.pydata.org/pandas-docs/stable/indexing.html#indexing-view-versus-copy\n",
      "  df.hph[i]=0\n",
      "/Users/srmac/Dropbox/Kepler/KeplerSoft/KS_consoPlus.py:225: SettingWithCopyWarning: \n",
      "A value is trying to be set on a copy of a slice from a DataFrame\n",
      "\n",
      "See the caveats in the documentation: http://pandas.pydata.org/pandas-docs/stable/indexing.html#indexing-view-versus-copy\n",
      "  df.hch[i]=8*Nbr_jours_ouvrés_avant31 + 24*Nbr_jours_chomés_avant31\n",
      "/Users/srmac/Dropbox/Kepler/KeplerSoft/KS_consoPlus.py:226: SettingWithCopyWarning: \n",
      "A value is trying to be set on a copy of a slice from a DataFrame\n",
      "\n",
      "See the caveats in the documentation: http://pandas.pydata.org/pandas-docs/stable/indexing.html#indexing-view-versus-copy\n",
      "  df.hph[i]=16*Nbr_jours_ouvrés_avant31\n",
      "/Users/srmac/Dropbox/Kepler/KeplerSoft/KS_consoPlus.py:228: SettingWithCopyWarning: \n",
      "A value is trying to be set on a copy of a slice from a DataFrame\n",
      "\n",
      "See the caveats in the documentation: http://pandas.pydata.org/pandas-docs/stable/indexing.html#indexing-view-versus-copy\n",
      "  df.hcb[i]=8*Nbr_jours_ouvrés_post31 + 24*Nbr_jours_chomés_post31\n",
      "/Users/srmac/Dropbox/Kepler/KeplerSoft/KS_consoPlus.py:229: SettingWithCopyWarning: \n",
      "A value is trying to be set on a copy of a slice from a DataFrame\n",
      "\n",
      "See the caveats in the documentation: http://pandas.pydata.org/pandas-docs/stable/indexing.html#indexing-view-versus-copy\n",
      "  df.hpb[i]=16*Nbr_jours_ouvrés_post31\n"
     ]
    }
   ],
   "source": [
    "%run  /Users/srmac/Dropbox/Kepler/KeplerSoft/KS_consoPlus.py\n"
   ]
  },
  {
   "cell_type": "code",
   "execution_count": 224,
   "metadata": {},
   "outputs": [
    {
     "data": {
      "text/plain": [
       "P1     55.8846\n",
       "P2     64.2191\n",
       "P3       63.37\n",
       "P4     49.3697\n",
       "P5     39.9494\n",
       "P6     16.5572\n",
       "P7     23.6023\n",
       "P8     12.6065\n",
       "P9     29.3508\n",
       "P10     55.354\n",
       "P11    48.2545\n",
       "P12    76.5537\n",
       "Name: Pui_HP, dtype: object"
      ]
     },
     "execution_count": 224,
     "metadata": {},
     "output_type": "execute_result"
    }
   ],
   "source": [
    "df.Pui_HP\n"
   ]
  },
  {
   "cell_type": "code",
   "execution_count": 225,
   "metadata": {},
   "outputs": [
    {
     "data": {
      "text/plain": [
       "55.884634387351774"
      ]
     },
     "execution_count": 225,
     "metadata": {},
     "output_type": "execute_result"
    }
   ],
   "source": [
    "df.Pui_HP['P1']\n"
   ]
  },
  {
   "cell_type": "markdown",
   "metadata": {
    "collapsed": true
   },
   "source": [
    "##### Calcul de l'énergie  HP quotidienne pour respect du cdcf"
   ]
  },
  {
   "cell_type": "code",
   "execution_count": 226,
   "metadata": {
    "collapsed": true
   },
   "outputs": [],
   "source": [
    "Profil1=Pv[datetime(* d [ 0 : 3 ]):datetime(* d [ 0 : 3 ]).replace(hour=23)]"
   ]
  },
  {
   "cell_type": "code",
   "execution_count": 227,
   "metadata": {
    "collapsed": true
   },
   "outputs": [],
   "source": [
    "import ipywidgets as widgets\n",
    "from __future__ import print_function\n",
    "from ipywidgets import interact, interactive, fixed, interact_manual"
   ]
  },
  {
   "cell_type": "code",
   "execution_count": 228,
   "metadata": {
    "collapsed": true
   },
   "outputs": [],
   "source": [
    "ddpc=dd[datetime(* d [ 0 : 3 ]):datetime(* d [ 0 : 3 ]).replace(hour=23)]\n"
   ]
  },
  {
   "cell_type": "code",
   "execution_count": 229,
   "metadata": {},
   "outputs": [
    {
     "data": {
      "text/html": [
       "<div>\n",
       "<style>\n",
       "    .dataframe thead tr:only-child th {\n",
       "        text-align: right;\n",
       "    }\n",
       "\n",
       "    .dataframe thead th {\n",
       "        text-align: left;\n",
       "    }\n",
       "\n",
       "    .dataframe tbody tr th {\n",
       "        vertical-align: top;\n",
       "    }\n",
       "</style>\n",
       "<table border=\"1\" class=\"dataframe\">\n",
       "  <thead>\n",
       "    <tr style=\"text-align: right;\">\n",
       "      <th></th>\n",
       "      <th>Pui_PV</th>\n",
       "      <th>Tamb</th>\n",
       "      <th>Pui_Conso</th>\n",
       "    </tr>\n",
       "  </thead>\n",
       "  <tbody>\n",
       "    <tr>\n",
       "      <th>2017-11-21 00:00:00</th>\n",
       "      <td>0.000</td>\n",
       "      <td>8.806</td>\n",
       "      <td>15.389205</td>\n",
       "    </tr>\n",
       "    <tr>\n",
       "      <th>2017-11-21 01:00:00</th>\n",
       "      <td>0.000</td>\n",
       "      <td>8.777</td>\n",
       "      <td>15.389205</td>\n",
       "    </tr>\n",
       "    <tr>\n",
       "      <th>2017-11-21 02:00:00</th>\n",
       "      <td>0.000</td>\n",
       "      <td>8.746</td>\n",
       "      <td>15.389205</td>\n",
       "    </tr>\n",
       "    <tr>\n",
       "      <th>2017-11-21 03:00:00</th>\n",
       "      <td>0.000</td>\n",
       "      <td>8.542</td>\n",
       "      <td>15.389205</td>\n",
       "    </tr>\n",
       "    <tr>\n",
       "      <th>2017-11-21 04:00:00</th>\n",
       "      <td>0.000</td>\n",
       "      <td>8.329</td>\n",
       "      <td>15.389205</td>\n",
       "    </tr>\n",
       "    <tr>\n",
       "      <th>2017-11-21 05:00:00</th>\n",
       "      <td>0.000</td>\n",
       "      <td>8.120</td>\n",
       "      <td>15.389205</td>\n",
       "    </tr>\n",
       "    <tr>\n",
       "      <th>2017-11-21 06:00:00</th>\n",
       "      <td>0.000</td>\n",
       "      <td>8.089</td>\n",
       "      <td>15.389205</td>\n",
       "    </tr>\n",
       "    <tr>\n",
       "      <th>2017-11-21 07:00:00</th>\n",
       "      <td>0.000</td>\n",
       "      <td>8.061</td>\n",
       "      <td>76.553693</td>\n",
       "    </tr>\n",
       "    <tr>\n",
       "      <th>2017-11-21 08:00:00</th>\n",
       "      <td>0.000</td>\n",
       "      <td>8.027</td>\n",
       "      <td>76.553693</td>\n",
       "    </tr>\n",
       "    <tr>\n",
       "      <th>2017-11-21 09:00:00</th>\n",
       "      <td>77.821</td>\n",
       "      <td>8.389</td>\n",
       "      <td>76.553693</td>\n",
       "    </tr>\n",
       "    <tr>\n",
       "      <th>2017-11-21 10:00:00</th>\n",
       "      <td>92.754</td>\n",
       "      <td>8.743</td>\n",
       "      <td>76.553693</td>\n",
       "    </tr>\n",
       "    <tr>\n",
       "      <th>2017-11-21 11:00:00</th>\n",
       "      <td>140.717</td>\n",
       "      <td>9.098</td>\n",
       "      <td>76.553693</td>\n",
       "    </tr>\n",
       "    <tr>\n",
       "      <th>2017-11-21 12:00:00</th>\n",
       "      <td>178.192</td>\n",
       "      <td>9.681</td>\n",
       "      <td>76.553693</td>\n",
       "    </tr>\n",
       "    <tr>\n",
       "      <th>2017-11-21 13:00:00</th>\n",
       "      <td>192.771</td>\n",
       "      <td>10.266</td>\n",
       "      <td>76.553693</td>\n",
       "    </tr>\n",
       "    <tr>\n",
       "      <th>2017-11-21 14:00:00</th>\n",
       "      <td>133.680</td>\n",
       "      <td>10.854</td>\n",
       "      <td>76.553693</td>\n",
       "    </tr>\n",
       "    <tr>\n",
       "      <th>2017-11-21 15:00:00</th>\n",
       "      <td>116.975</td>\n",
       "      <td>10.895</td>\n",
       "      <td>76.553693</td>\n",
       "    </tr>\n",
       "    <tr>\n",
       "      <th>2017-11-21 16:00:00</th>\n",
       "      <td>70.618</td>\n",
       "      <td>10.944</td>\n",
       "      <td>76.553693</td>\n",
       "    </tr>\n",
       "    <tr>\n",
       "      <th>2017-11-21 17:00:00</th>\n",
       "      <td>8.436</td>\n",
       "      <td>10.990</td>\n",
       "      <td>76.553693</td>\n",
       "    </tr>\n",
       "    <tr>\n",
       "      <th>2017-11-21 18:00:00</th>\n",
       "      <td>0.000</td>\n",
       "      <td>10.222</td>\n",
       "      <td>76.553693</td>\n",
       "    </tr>\n",
       "    <tr>\n",
       "      <th>2017-11-21 19:00:00</th>\n",
       "      <td>0.000</td>\n",
       "      <td>9.454</td>\n",
       "      <td>76.553693</td>\n",
       "    </tr>\n",
       "    <tr>\n",
       "      <th>2017-11-21 20:00:00</th>\n",
       "      <td>0.000</td>\n",
       "      <td>8.686</td>\n",
       "      <td>76.553693</td>\n",
       "    </tr>\n",
       "    <tr>\n",
       "      <th>2017-11-21 21:00:00</th>\n",
       "      <td>0.000</td>\n",
       "      <td>8.328</td>\n",
       "      <td>76.553693</td>\n",
       "    </tr>\n",
       "    <tr>\n",
       "      <th>2017-11-21 22:00:00</th>\n",
       "      <td>0.000</td>\n",
       "      <td>7.966</td>\n",
       "      <td>76.553693</td>\n",
       "    </tr>\n",
       "    <tr>\n",
       "      <th>2017-11-21 23:00:00</th>\n",
       "      <td>0.000</td>\n",
       "      <td>7.600</td>\n",
       "      <td>15.389205</td>\n",
       "    </tr>\n",
       "  </tbody>\n",
       "</table>\n",
       "</div>"
      ],
      "text/plain": [
       "                      Pui_PV    Tamb  Pui_Conso\n",
       "2017-11-21 00:00:00    0.000   8.806  15.389205\n",
       "2017-11-21 01:00:00    0.000   8.777  15.389205\n",
       "2017-11-21 02:00:00    0.000   8.746  15.389205\n",
       "2017-11-21 03:00:00    0.000   8.542  15.389205\n",
       "2017-11-21 04:00:00    0.000   8.329  15.389205\n",
       "2017-11-21 05:00:00    0.000   8.120  15.389205\n",
       "2017-11-21 06:00:00    0.000   8.089  15.389205\n",
       "2017-11-21 07:00:00    0.000   8.061  76.553693\n",
       "2017-11-21 08:00:00    0.000   8.027  76.553693\n",
       "2017-11-21 09:00:00   77.821   8.389  76.553693\n",
       "2017-11-21 10:00:00   92.754   8.743  76.553693\n",
       "2017-11-21 11:00:00  140.717   9.098  76.553693\n",
       "2017-11-21 12:00:00  178.192   9.681  76.553693\n",
       "2017-11-21 13:00:00  192.771  10.266  76.553693\n",
       "2017-11-21 14:00:00  133.680  10.854  76.553693\n",
       "2017-11-21 15:00:00  116.975  10.895  76.553693\n",
       "2017-11-21 16:00:00   70.618  10.944  76.553693\n",
       "2017-11-21 17:00:00    8.436  10.990  76.553693\n",
       "2017-11-21 18:00:00    0.000  10.222  76.553693\n",
       "2017-11-21 19:00:00    0.000   9.454  76.553693\n",
       "2017-11-21 20:00:00    0.000   8.686  76.553693\n",
       "2017-11-21 21:00:00    0.000   8.328  76.553693\n",
       "2017-11-21 22:00:00    0.000   7.966  76.553693\n",
       "2017-11-21 23:00:00    0.000   7.600  15.389205"
      ]
     },
     "execution_count": 229,
     "metadata": {},
     "output_type": "execute_result"
    }
   ],
   "source": [
    "ddpc"
   ]
  },
  {
   "cell_type": "code",
   "execution_count": 254,
   "metadata": {
    "scrolled": false
   },
   "outputs": [
    {
     "data": {
      "application/vnd.jupyter.widget-view+json": {
       "model_id": "bc541d85ed6c410b97d6cfd1821409fd",
       "version_major": 2,
       "version_minor": 0
      },
      "text/html": [
       "<p>Failed to display Jupyter Widget of type <code>VBox</code>.</p>\n",
       "<p>\n",
       "  If you're reading this message in the Jupyter Notebook or JupyterLab Notebook, it may mean\n",
       "  that the widgets JavaScript is still loading. If this message persists, it\n",
       "  likely means that the widgets JavaScript library is either not installed or\n",
       "  not enabled. See the <a href=\"https://ipywidgets.readthedocs.io/en/stable/user_install.html\">Jupyter\n",
       "  Widgets Documentation</a> for setup instructions.\n",
       "</p>\n",
       "<p>\n",
       "  If you're reading this message in another frontend (for example, a static\n",
       "  rendering on GitHub or <a href=\"https://nbviewer.jupyter.org/\">NBViewer</a>),\n",
       "  it may mean that your frontend doesn't currently support widgets.\n",
       "</p>\n"
      ],
      "text/plain": [
       "VBox(children=(IntSlider(value=15), IntSlider(value=38), IntSlider(value=30)))"
      ]
     },
     "metadata": {},
     "output_type": "display_data"
    },
    {
     "data": {
      "application/vnd.jupyter.widget-view+json": {
       "model_id": "602ac39ca6a94edeb973c086e10e69e2",
       "version_major": 2,
       "version_minor": 0
      },
      "text/html": [
       "<p>Failed to display Jupyter Widget of type <code>Output</code>.</p>\n",
       "<p>\n",
       "  If you're reading this message in the Jupyter Notebook or JupyterLab Notebook, it may mean\n",
       "  that the widgets JavaScript is still loading. If this message persists, it\n",
       "  likely means that the widgets JavaScript library is either not installed or\n",
       "  not enabled. See the <a href=\"https://ipywidgets.readthedocs.io/en/stable/user_install.html\">Jupyter\n",
       "  Widgets Documentation</a> for setup instructions.\n",
       "</p>\n",
       "<p>\n",
       "  If you're reading this message in another frontend (for example, a static\n",
       "  rendering on GitHub or <a href=\"https://nbviewer.jupyter.org/\">NBViewer</a>),\n",
       "  it may mean that your frontend doesn't currently support widgets.\n",
       "</p>\n"
      ],
      "text/plain": [
       "Output()"
      ]
     },
     "metadata": {},
     "output_type": "display_data"
    }
   ],
   "source": [
    "\n",
    "a = widgets.IntSlider(value=ddpc.Pui_Conso[0])\n",
    "b = widgets.IntSlider(value=ddpc.Pui_Conso[1])\n",
    "c = widgets.IntSlider(value=ddpc.Pui_Conso[2])\n",
    "ui = widgets.VBox([a, b, c])\n",
    "\n",
    "def f(a, b, c):\n",
    "        ddpc.Pui_Conso[0]=a\n",
    "        ddpc.Pui_Conso[1]=b\n",
    "        ddpc.Pui_Conso[2]=c\n",
    "        print (ddpc.Pui_Conso)\n",
    "\n",
    "out = widgets.interactive_output(f, {'a': a, 'b': b, 'c': c})\n",
    "\n",
    "display(ui,out)\n",
    "\n",
    "\n",
    "\n"
   ]
  },
  {
   "cell_type": "code",
   "execution_count": null,
   "metadata": {
    "collapsed": true
   },
   "outputs": [],
   "source": [
    "%matplotlib inline\n",
    "from ipywidgets import interactive\n",
    "import matplotlib.pyplot as plt\n",
    "import numpy as np\n",
    "\n",
    "def f(m, b):\n",
    "    plt.figure(2)\n",
    "    x = np.linspace(-10, 10, num=1000)\n",
    "    plt.plot(x, m * x + b)\n",
    "    plt.ylim(-5, 5)\n",
    "    plt.show()\n",
    "\n",
    "interactive_plot = interactive(f, m=(-2.0, 2.0), b=(-3, 3, 0.5))\n",
    "output = interactive_plot.children[-1]\n",
    "output.layout.height = '350px'\n",
    "interactive_plot"
   ]
  }
 ],
 "metadata": {
  "kernelspec": {
   "display_name": "Python 3",
   "language": "python",
   "name": "python3"
  },
  "language_info": {
   "codemirror_mode": {
    "name": "ipython",
    "version": 3
   },
   "file_extension": ".py",
   "mimetype": "text/x-python",
   "name": "python",
   "nbconvert_exporter": "python",
   "pygments_lexer": "ipython3",
   "version": "3.6.3"
  },
  "widgets": {
   "application/vnd.jupyter.widget-state+json": {
    "state": {
     "1b99b9dd84dd49eeb4340aa7c4c99d14": {
      "model_module": "@jupyter-widgets/controls",
      "model_module_version": "1.0.0",
      "model_name": "IntSliderModel",
      "state": {
       "continuous_update": false,
       "description": "Pui_Conso:",
       "layout": "IPY_MODEL_78a758f6247442ef97dfe6a1c7fd54cc",
       "max": 50,
       "min": -50,
       "orientation": "vertical",
       "style": "IPY_MODEL_78b323d12c164349818bc5250b56e4c9"
      }
     },
     "3dcb9d68489246779387bb20a552eecd": {
      "model_module": "@jupyter-widgets/controls",
      "model_module_version": "1.0.0",
      "model_name": "SliderStyleModel",
      "state": {
       "description_width": ""
      }
     },
     "7125caee119e49db9d10aec14fd78240": {
      "model_module": "@jupyter-widgets/controls",
      "model_module_version": "1.0.0",
      "model_name": "IntSliderModel",
      "state": {
       "continuous_update": false,
       "description": "Pui_Conso:",
       "layout": "IPY_MODEL_8754f97f0e2a4aecacfb308971b79dce",
       "max": 50,
       "min": -50,
       "orientation": "vertical",
       "style": "IPY_MODEL_c4250cc4e01a483894e605c7b1649cf2"
      }
     },
     "78a758f6247442ef97dfe6a1c7fd54cc": {
      "model_module": "@jupyter-widgets/base",
      "model_module_version": "1.0.0",
      "model_name": "LayoutModel",
      "state": {}
     },
     "78b323d12c164349818bc5250b56e4c9": {
      "model_module": "@jupyter-widgets/controls",
      "model_module_version": "1.0.0",
      "model_name": "SliderStyleModel",
      "state": {
       "description_width": ""
      }
     },
     "8754f97f0e2a4aecacfb308971b79dce": {
      "model_module": "@jupyter-widgets/base",
      "model_module_version": "1.0.0",
      "model_name": "LayoutModel",
      "state": {}
     },
     "9f1fc3fa0b8540699c4658b77a12280c": {
      "model_module": "@jupyter-widgets/base",
      "model_module_version": "1.0.0",
      "model_name": "LayoutModel",
      "state": {}
     },
     "c4250cc4e01a483894e605c7b1649cf2": {
      "model_module": "@jupyter-widgets/controls",
      "model_module_version": "1.0.0",
      "model_name": "SliderStyleModel",
      "state": {
       "description_width": ""
      }
     },
     "d6ec0c1abf50454bab17ea1744a8f8e1": {
      "model_module": "@jupyter-widgets/controls",
      "model_module_version": "1.0.0",
      "model_name": "IntSliderModel",
      "state": {
       "continuous_update": false,
       "description": "Pui_Conso:",
       "layout": "IPY_MODEL_9f1fc3fa0b8540699c4658b77a12280c",
       "max": 50,
       "min": -50,
       "orientation": "vertical",
       "style": "IPY_MODEL_3dcb9d68489246779387bb20a552eecd"
      }
     }
    },
    "version_major": 2,
    "version_minor": 0
   }
  }
 },
 "nbformat": 4,
 "nbformat_minor": 2
}
