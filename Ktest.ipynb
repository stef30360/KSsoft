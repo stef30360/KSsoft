{
 "cells": [
  {
   "cell_type": "code",
   "execution_count": 12,
   "metadata": {},
   "outputs": [
    {
     "data": {
      "application/vnd.jupyter.widget-view+json": {
       "model_id": "97377189b710479e8caaa249f2584803",
       "version_major": 2,
       "version_minor": 0
      },
      "text/html": [
       "<p>Failed to display Jupyter Widget of type <code>Box</code>.</p>\n",
       "<p>\n",
       "  If you're reading this message in the Jupyter Notebook or JupyterLab Notebook, it may mean\n",
       "  that the widgets JavaScript is still loading. If this message persists, it\n",
       "  likely means that the widgets JavaScript library is either not installed or\n",
       "  not enabled. See the <a href=\"https://ipywidgets.readthedocs.io/en/stable/user_install.html\">Jupyter\n",
       "  Widgets Documentation</a> for setup instructions.\n",
       "</p>\n",
       "<p>\n",
       "  If you're reading this message in another frontend (for example, a static\n",
       "  rendering on GitHub or <a href=\"https://nbviewer.jupyter.org/\">NBViewer</a>),\n",
       "  it may mean that your frontend doesn't currently support widgets.\n",
       "</p>\n"
      ],
      "text/plain": [
       "Box(children=(interactive(children=(IntSlider(value=750, description='p5', max=1500), IntSlider(value=750, description='p6', max=1500), IntSlider(value=750, description='p7', max=1500), IntSlider(value=750, description='p8', max=1500), IntSlider(value=750, description='p9', max=1500), IntSlider(value=750, description='p10', max=1500), IntSlider(value=750, description='p11', max=1500), IntSlider(value=750, description='p12', max=1500), IntSlider(value=750, description='p13', max=1500), IntSlider(value=750, description='p14', max=1500), IntSlider(value=750, description='p15', max=1500), IntSlider(value=750, description='p16', max=1500), IntSlider(value=750, description='p17', max=1500), IntSlider(value=750, description='p18', max=1500), IntSlider(value=750, description='p19', max=1500), IntSlider(value=750, description='p20', max=1500), Output(layout=Layout(height='350px', width='700px'))), _dom_classes=('widget-interact',)),), layout=Layout(align_items='flex-start', border='solid', display='inline-flex', flex_flow='row', width='100%'))"
      ]
     },
     "metadata": {},
     "output_type": "display_data"
    }
   ],
   "source": [
    "%matplotlib inline\n",
    "from ipywidgets import interactive\n",
    "import matplotlib.pyplot as plt\n",
    "import pandas as pd\n",
    "import numpy as np\n",
    "\n",
    "\n",
    "\n",
    "def Ktest(p5,p6,p7,p8,p9,p10,p11,p12,p13,p14,p15,p16,p17,p18,p19,p20):\n",
    "    \n",
    "    hours = []\n",
    "    Pmax = 1500\n",
    "    \n",
    "    for i in range(0,23) :\n",
    "        hours.append(i)\n",
    "        hours[i]=i\n",
    "    \n",
    "    \n",
    "    \n",
    "    p0=500\n",
    "    p1=500\n",
    "    p2=500\n",
    "    p3=500\n",
    "    p4=500\n",
    "    p21=500\n",
    "    p22=500\n",
    "\n",
    "    power=[p0,p1,p2,p3,p4,p5,p6,p7,p8,p9,p10,p11,p12,p13,p14,p15,p16,p17,p18,p19,p20,p21,p22]\n",
    "    \n",
    "    count = 0\n",
    "    somme = 0\n",
    "    for i in range(5,21):\n",
    "        if(power[i] != Pmax/2 ):\n",
    "            count +=1\n",
    "            somme=somme+power[i]-Pmax/2\n",
    "            \n",
    "    if count == 0:\n",
    "        offset = 0;\n",
    "    else:\n",
    "        for i in range(5,21):\n",
    "            if(power[i] == Pmax/2):\n",
    "                power[i]=Pmax/2-somme/count\n",
    "   \n",
    "    \n",
    "    \n",
    "    plt.axis([0, 23, 0, Pmax])\n",
    "    plt.grid(color='b', linestyle='-', linewidth=0.42)\n",
    "    plt.plot(hours,power,'-go')\n",
    "    return plt\n",
    "\n",
    "\n",
    "box_layout = Layout(display='inline-flex',\n",
    "                    flex_flow='row',\n",
    "                    align_items='flex-start',\n",
    "                    border='solid',\n",
    "                    width='100%')\n",
    "\n",
    "interactive_plot = interactive(Ktest,p5=(0,1500),p6=(0,1500),p7=(0,1500),p8=(0,1500),p9=(0,1500),p10=(0,1500),p11=(0,1500),p12=(0,1500),p13=(0,1500),p14=(0,1500),p15=(0,1500),p16=(0,1500),p17=(0,1500),p18=(0,1500),p19=(0,1500),p20=(0,1500))\n",
    "items = [interactive_plot]\n",
    "output = interactive_plot.children[-1]\n",
    "output.layout.height = '350px'\n",
    "output.layout.width = '700px'\n",
    "box = Box(children=items, layout=box_layout)\n",
    "box\n"
   ]
  },
  {
   "cell_type": "code",
   "execution_count": 4,
   "metadata": {},
   "outputs": [
    {
     "data": {
      "application/vnd.jupyter.widget-view+json": {
       "model_id": "30c933c4a5b5408aacc296ae1cdf3383",
       "version_major": 2,
       "version_minor": 0
      },
      "text/html": [
       "<p>Failed to display Jupyter Widget of type <code>Box</code>.</p>\n",
       "<p>\n",
       "  If you're reading this message in the Jupyter Notebook or JupyterLab Notebook, it may mean\n",
       "  that the widgets JavaScript is still loading. If this message persists, it\n",
       "  likely means that the widgets JavaScript library is either not installed or\n",
       "  not enabled. See the <a href=\"https://ipywidgets.readthedocs.io/en/stable/user_install.html\">Jupyter\n",
       "  Widgets Documentation</a> for setup instructions.\n",
       "</p>\n",
       "<p>\n",
       "  If you're reading this message in another frontend (for example, a static\n",
       "  rendering on GitHub or <a href=\"https://nbviewer.jupyter.org/\">NBViewer</a>),\n",
       "  it may mean that your frontend doesn't currently support widgets.\n",
       "</p>\n"
      ],
      "text/plain": [
       "Box(children=(Button(button_style='danger', description='correct', layout=Layout(flex='1 1 auto', width='auto'), style=ButtonStyle()), Button(button_style='danger', description='horse', layout=Layout(flex='1 1 auto', width='auto'), style=ButtonStyle()), Button(button_style='danger', description='battery', layout=Layout(flex='1 1 auto', width='auto'), style=ButtonStyle()), Button(button_style='danger', description='staple', layout=Layout(flex='1 1 auto', width='auto'), style=ButtonStyle())), layout=Layout(align_items='stretch', border='solid', display='flex', flex_flow='column', width='50%'))"
      ]
     },
     "metadata": {},
     "output_type": "display_data"
    }
   ],
   "source": [
    "\n",
    "from ipywidgets import Layout, Button, Box\n",
    "\n",
    "items_layout = Layout(flex='1 1 auto',\n",
    "                      width='auto')     # override the default width of the button to 'auto' to let the button grow\n",
    "\n",
    "box_layout = Layout(display='flex',\n",
    "                    flex_flow='column',\n",
    "                    align_items='stretch',\n",
    "                    border='solid',\n",
    "                    width='50%')\n",
    "\n",
    "words = ['correct', 'horse', 'battery', 'staple']\n",
    "items = [Button(description=w, layout=items_layout, button_style='danger') for w in words]\n",
    "box = Box(children=items, layout=box_layout)\n",
    "box\n",
    "\n"
   ]
  },
  {
   "cell_type": "code",
   "execution_count": null,
   "metadata": {
    "collapsed": true
   },
   "outputs": [],
   "source": []
  }
 ],
 "metadata": {
  "kernelspec": {
   "display_name": "Python 3",
   "language": "python",
   "name": "python3"
  },
  "language_info": {
   "codemirror_mode": {
    "name": "ipython",
    "version": 3
   },
   "file_extension": ".py",
   "mimetype": "text/x-python",
   "name": "python",
   "nbconvert_exporter": "python",
   "pygments_lexer": "ipython3",
   "version": "3.6.3"
  }
 },
 "nbformat": 4,
 "nbformat_minor": 2
}
