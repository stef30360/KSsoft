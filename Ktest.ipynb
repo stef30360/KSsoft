{
 "cells": [
  {
   "cell_type": "code",
   "execution_count": 1,
   "metadata": {},
   "outputs": [
    {
     "data": {
      "application/vnd.jupyter.widget-view+json": {
       "model_id": "ba9c6a5e41ce4695bf2ab3cb3c04c917",
       "version_major": 2,
       "version_minor": 0
      },
      "text/html": [
       "<p>Failed to display Jupyter Widget of type <code>interactive</code>.</p>\n",
       "<p>\n",
       "  If you're reading this message in the Jupyter Notebook or JupyterLab Notebook, it may mean\n",
       "  that the widgets JavaScript is still loading. If this message persists, it\n",
       "  likely means that the widgets JavaScript library is either not installed or\n",
       "  not enabled. See the <a href=\"https://ipywidgets.readthedocs.io/en/stable/user_install.html\">Jupyter\n",
       "  Widgets Documentation</a> for setup instructions.\n",
       "</p>\n",
       "<p>\n",
       "  If you're reading this message in another frontend (for example, a static\n",
       "  rendering on GitHub or <a href=\"https://nbviewer.jupyter.org/\">NBViewer</a>),\n",
       "  it may mean that your frontend doesn't currently support widgets.\n",
       "</p>\n"
      ],
      "text/plain": [
       "interactive(children=(IntSlider(value=750, description='p5', max=1500), IntSlider(value=750, description='p6', max=1500), IntSlider(value=750, description='p7', max=1500), IntSlider(value=750, description='p8', max=1500), IntSlider(value=750, description='p9', max=1500), IntSlider(value=750, description='p10', max=1500), IntSlider(value=750, description='p11', max=1500), IntSlider(value=750, description='p12', max=1500), IntSlider(value=750, description='p13', max=1500), IntSlider(value=750, description='p14', max=1500), IntSlider(value=750, description='p15', max=1500), IntSlider(value=750, description='p16', max=1500), IntSlider(value=750, description='p17', max=1500), IntSlider(value=750, description='p18', max=1500), IntSlider(value=750, description='p19', max=1500), IntSlider(value=750, description='p20', max=1500), Output(layout=Layout(height='350px'))), _dom_classes=('widget-interact',))"
      ]
     },
     "metadata": {},
     "output_type": "display_data"
    }
   ],
   "source": [
    "%matplotlib inline\n",
    "from ipywidgets import interactive\n",
    "import matplotlib.pyplot as plt\n",
    "import pandas as pd\n",
    "import numpy as np\n",
    "\n",
    "def equalizer(data,Pmax):\n",
    "    count =0\n",
    "    for i in range(0,23):\n",
    "        if(data[i] != Pmax/2 ):\n",
    "            count +=1\n",
    "            if count == 0:\n",
    "                return(Pmax/2)\n",
    "            else:\n",
    "                somme = 0\n",
    "                for i in range(len(data)):\n",
    "                    somme=somme+data[i].offset\n",
    "                for i in range(len(data)):\n",
    "                    if(data[i].offset == 0):\n",
    "                        data[i].offset = somme/(len(data)+1)\n",
    "    \n",
    "    return(data)\n",
    "\n",
    "def Ktest(p5,p6,p7,p8,p9,p10,p11,p12,p13,p14,p15,p16,p17,p18,p19,p20):\n",
    "    \n",
    "    hours = []\n",
    "\n",
    "    for i in range(0,23) :\n",
    "        hours.append(i)\n",
    "        hours[i]=i\n",
    "    \n",
    "    \n",
    "    \n",
    "    p0=500\n",
    "    p1=500\n",
    "    p2=500\n",
    "    p3=500\n",
    "    p4=500\n",
    "    p21=500\n",
    "    p22=500\n",
    "\n",
    "    power=[p0,p1,p2,p3,p4,p5,p6,p7,p8,p9,p10,p11,p12,p13,p14,p15,p16,p17,p18,p19,p20,p21,p22]\n",
    "    \n",
    "    plt.axis([0, 23, 0, 1500])\n",
    "    plt.plot(hours,power,'go')\n",
    "    return plt\n",
    "\n",
    "interactive_plot = interactive(Ktest,p5=(0,1500),p6=(0,1500),p7=(0,1500),p8=(0,1500),p9=(0,1500),p10=(0,1500),p11=(0,1500),p12=(0,1500),p13=(0,1500),p14=(0,1500),p15=(0,1500),p16=(0,1500),p17=(0,1500),p18=(0,1500),p19=(0,1500),p20=(0,1500))\n",
    "output = interactive_plot.children[-1]\n",
    "output.layout.height = '350px'\n",
    "items = []\n",
    "interactive_plot\n",
    "\n"
   ]
  },
  {
   "cell_type": "code",
   "execution_count": 2,
   "metadata": {},
   "outputs": [
    {
     "data": {
      "application/vnd.jupyter.widget-view+json": {
       "model_id": "c38356a7fbd64c409924edadb7cc6cfc",
       "version_major": 2,
       "version_minor": 0
      },
      "text/html": [
       "<p>Failed to display Jupyter Widget of type <code>Box</code>.</p>\n",
       "<p>\n",
       "  If you're reading this message in the Jupyter Notebook or JupyterLab Notebook, it may mean\n",
       "  that the widgets JavaScript is still loading. If this message persists, it\n",
       "  likely means that the widgets JavaScript library is either not installed or\n",
       "  not enabled. See the <a href=\"https://ipywidgets.readthedocs.io/en/stable/user_install.html\">Jupyter\n",
       "  Widgets Documentation</a> for setup instructions.\n",
       "</p>\n",
       "<p>\n",
       "  If you're reading this message in another frontend (for example, a static\n",
       "  rendering on GitHub or <a href=\"https://nbviewer.jupyter.org/\">NBViewer</a>),\n",
       "  it may mean that your frontend doesn't currently support widgets.\n",
       "</p>\n"
      ],
      "text/plain": [
       "Box(children=(Button(description='weight=1', style=ButtonStyle()), Button(description='weight=2', layout=Layout(flex='2 1 auto', width='auto'), style=ButtonStyle()), Button(description='weight=1', style=ButtonStyle())), layout=Layout(align_items='stretch', border='solid', display='flex', flex_flow='row', width='50%'))"
      ]
     },
     "metadata": {},
     "output_type": "display_data"
    }
   ],
   "source": [
    "\n",
    "from ipywidgets import Layout, Button, Box\n",
    "\n",
    "items = [\n",
    "    Button(description='weight=1'),\n",
    "    Button(description='weight=2', layout=Layout(flex='2 1 auto', width='auto')),\n",
    "    Button(description='weight=1'),\n",
    " ]\n",
    "\n",
    "box_layout = Layout(display='flex',\n",
    "                    flex_flow='row',\n",
    "                    align_items='stretch',\n",
    "                    border='solid',\n",
    "                    width='50%')\n",
    "box = Box(children=items, layout=box_layout)\n",
    "box\n",
    "\n"
   ]
  },
  {
   "cell_type": "code",
   "execution_count": null,
   "metadata": {
    "collapsed": true
   },
   "outputs": [],
   "source": [
    "import pandas as pd\n",
    "def equalizer(data):\n",
    "    count =0\n",
    "    for i in range(len(data)):\n",
    "        if(data.offset != 0):\n",
    "            count +=1\n",
    "            if count == 0:\n",
    "                return(len(data))\n",
    "            else:\n",
    "                somme =0\n",
    "                for i in range(len(data)):\n",
    "                    somme=somme+data[i].offset\n",
    "                for i in range(len(data)):\n",
    "                    if(data[i].offset == 0):\n",
    "                        data[i].offset = somme/(len(data)+1)\n",
    "    \n",
    "    return(data)"
   ]
  }
 ],
 "metadata": {
  "kernelspec": {
   "display_name": "Python 3",
   "language": "python",
   "name": "python3"
  },
  "language_info": {
   "codemirror_mode": {
    "name": "ipython",
    "version": 3
   },
   "file_extension": ".py",
   "mimetype": "text/x-python",
   "name": "python",
   "nbconvert_exporter": "python",
   "pygments_lexer": "ipython3",
   "version": "3.6.3"
  }
 },
 "nbformat": 4,
 "nbformat_minor": 2
}
